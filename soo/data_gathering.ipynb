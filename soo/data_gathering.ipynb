{
 "cells": [
  {
   "cell_type": "markdown",
   "id": "ba3c958a",
   "metadata": {},
   "source": [
    "# 데이터 수집\n",
    "\n",
    "## 제품 데이터 수집"
   ]
  },
  {
   "cell_type": "markdown",
   "id": "d5d827a4",
   "metadata": {},
   "source": [
    "### excel -> csv"
   ]
  },
  {
   "cell_type": "code",
   "execution_count": null,
   "id": "a826b4f2",
   "metadata": {},
   "outputs": [],
   "source": [
    "%pip install -q ipykernel"
   ]
  },
  {
   "cell_type": "code",
   "execution_count": 2,
   "id": "c61990b2",
   "metadata": {},
   "outputs": [
    {
     "name": "stdout",
     "output_type": "stream",
     "text": [
      "Note: you may need to restart the kernel to use updated packages.\n"
     ]
    },
    {
     "name": "stderr",
     "output_type": "stream",
     "text": [
      "\n",
      "[notice] A new release of pip is available: 24.3.1 -> 25.2\n",
      "[notice] To update, run: python.exe -m pip install --upgrade pip\n"
     ]
    }
   ],
   "source": [
    "%pip install -q pandas"
   ]
  },
  {
   "cell_type": "code",
   "execution_count": 3,
   "id": "bf87b35d",
   "metadata": {},
   "outputs": [
    {
     "name": "stdout",
     "output_type": "stream",
     "text": [
      "Note: you may need to restart the kernel to use updated packages.\n"
     ]
    },
    {
     "name": "stderr",
     "output_type": "stream",
     "text": [
      "\n",
      "[notice] A new release of pip is available: 24.3.1 -> 25.2\n",
      "[notice] To update, run: python.exe -m pip install --upgrade pip\n"
     ]
    }
   ],
   "source": [
    "%pip install -q openpyxl"
   ]
  },
  {
   "cell_type": "code",
   "execution_count": 4,
   "id": "99a47806",
   "metadata": {},
   "outputs": [],
   "source": [
    "import pandas as pd\n",
    "\n",
    "# 변환할 엑셀 파일 경로를 입력하세요.\n",
    "# 파일이 코드가 있는 폴더에 있어야 합니다.\n",
    "excel_file = 'data.xlsx' \n",
    "\n",
    "# 변환된 CSV 파일의 저장 경로를 입력하세요.\n",
    "csv_file = 'product_data_raw.csv'\n",
    "\n",
    "\n",
    "# 엑셀 파일의 첫 번째 시트를 읽어와 DataFrame으로 만듭니다.\n",
    "# 만약 특정 시트를 변환하고 싶다면, sheet_name='시트명'을 추가하세요.\n",
    "df = pd.read_excel(excel_file)\n",
    "\n",
    "# DataFrame을 CSV 파일로 저장합니다.\n",
    "# index=False는 행 번호를 CSV에 저장하지 않도록 합니다.\n",
    "df.to_csv(csv_file, index=False, encoding='utf-8-sig')\n"
   ]
  },
  {
   "cell_type": "markdown",
   "id": "baf4fd5b",
   "metadata": {},
   "source": [
    "### `전성분`컬럼 표시 형식 통일\n",
    "- ;이나 ,로 구분되어 있던 성분명을 ;로 구분되도록 표시 형식 통일\n",
    "- `1,2-헥산다이올, (15,000ppm)`과 같은 예외 형식들은 직접 찾아 표시 형식 변환"
   ]
  },
  {
   "cell_type": "code",
   "execution_count": 5,
   "id": "1787da09",
   "metadata": {},
   "outputs": [],
   "source": [
    "import pandas as pd\n",
    "import csv\n",
    "\n",
    "# 사용하려는 CSV 파일 경로를 입력하세요.\n",
    "file_path = 'product_data_raw.csv'\n",
    "# 정제된 CSV 파일의 저장 경로\n",
    "output_path = 'product_data.csv'\n",
    "\n",
    "\n",
    "# 1. CSV 파일을 불러옵니다.\n",
    "df = pd.read_csv(file_path)\n",
    "\n",
    "# 2. 첫 번째 열(인덱스 열)을 삭제합니다.\n",
    "df = df.drop(df.columns[0], axis=1)\n",
    "\n",
    "# 3. '전성분' 컬럼의 구분 기호를 통일합니다.\n",
    "df['전성분'] = df['전성분'].str.replace(',', ';', regex=True)\n",
    "df['전성분'] = df['전성분'].str.replace(' ', '', regex=True)\n",
    "\n",
    "# 4. 정제된 DataFrame을 새로운 CSV 파일로 저장합니다.\n",
    "df.to_csv(output_path, index=False, quoting=csv.QUOTE_ALL, encoding='utf-8-sig')"
   ]
  }
 ],
 "metadata": {
  "kernelspec": {
   "display_name": "venv",
   "language": "python",
   "name": "python3"
  },
  "language_info": {
   "codemirror_mode": {
    "name": "ipython",
    "version": 3
   },
   "file_extension": ".py",
   "mimetype": "text/x-python",
   "name": "python",
   "nbconvert_exporter": "python",
   "pygments_lexer": "ipython3",
   "version": "3.13.2"
  }
 },
 "nbformat": 4,
 "nbformat_minor": 5
}
